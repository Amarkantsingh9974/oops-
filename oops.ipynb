{
 "cells": [
  {
   "cell_type": "markdown",
   "id": "f5f2c88a",
   "metadata": {},
   "source": [
    "# Q1. Explain Class and Object with respect to Object-Oriented Programming. Give a suitable example."
   ]
  },
  {
   "cell_type": "markdown",
   "id": "5e207aa3",
   "metadata": {},
   "source": [
    "let the class is car and the object are its properties like color types of tyre and class is a blueprint "
   ]
  },
  {
   "cell_type": "code",
   "execution_count": 1,
   "id": "962a84e5",
   "metadata": {},
   "outputs": [],
   "source": [
    "class Car:\n",
    "    def __init__(self, color, model, year):\n",
    "        self.color = color\n",
    "        self.model = model\n",
    "        self.year = year\n",
    "\n",
    "    def start(self):\n",
    "        print(\"Starting the car...\")\n",
    "\n",
    "    def stop(self):\n",
    "        print(\"Stopping the car...\")\n",
    "\n",
    "    def accelerate(self):\n",
    "        print(\"Accelerating the car...\")\n",
    "\n",
    "my_car = Car(\"red\", \"Mustang\", 2022)\n"
   ]
  },
  {
   "cell_type": "code",
   "execution_count": 2,
   "id": "f45e8abf",
   "metadata": {},
   "outputs": [
    {
     "name": "stdout",
     "output_type": "stream",
     "text": [
      "red\n",
      "Starting the car...\n",
      "Accelerating the car...\n"
     ]
    }
   ],
   "source": [
    "print(my_car.color) \n",
    "my_car.start() \n",
    "my_car.accelerate() \n"
   ]
  },
  {
   "cell_type": "markdown",
   "id": "2e64be5d",
   "metadata": {},
   "source": [
    "the resuablity of code "
   ]
  },
  {
   "cell_type": "markdown",
   "id": "9edf20c8",
   "metadata": {},
   "source": [
    "# Q2. Name the four pillars of OOPs."
   ]
  },
  {
   "cell_type": "markdown",
   "id": "02bed603",
   "metadata": {},
   "source": [
    "encapsulation \n",
    "abstraction\n",
    "inheritance\n",
    "polymorphism"
   ]
  },
  {
   "cell_type": "markdown",
   "id": "05412fc0",
   "metadata": {},
   "source": [
    "# Q3. Explain why the __init__() function is used. Give a suitable example."
   ]
  },
  {
   "cell_type": "markdown",
   "id": "9c7b83ae",
   "metadata": {},
   "source": [
    "to set the intial values of the function"
   ]
  },
  {
   "cell_type": "code",
   "execution_count": 17,
   "id": "55bd9602",
   "metadata": {},
   "outputs": [
    {
     "name": "stdout",
     "output_type": "stream",
     "text": [
      "Hello, the car name is skoda\n",
      "bmw is in speeed...\n"
     ]
    }
   ],
   "source": [
    "class car:\n",
    "    def __init__(self, name, year, color):\n",
    "        self.name = name\n",
    "        self.year = year\n",
    "        self.color = color\n",
    "\n",
    "    def drive(self):\n",
    "        print(\"Hello, the car name is\", self.name)\n",
    "\n",
    "    def stop(self):\n",
    "        print(self.name, \"is in speeed...\")\n",
    "\n",
    "car1 = car(\"skoda\", 2021, \"pink\")\n",
    "car2 = car(\"bmw\", 30, \"blue\")\n",
    "\n",
    "car1.drive() # Output: Hello, my name is Alice\n",
    "car2.stop() # Output: Bob is walking...\n"
   ]
  },
  {
   "cell_type": "markdown",
   "id": "e2569fb1",
   "metadata": {},
   "source": [
    "# Q4. Why self is used in OOPs?"
   ]
  },
  {
   "cell_type": "markdown",
   "id": "a27a7e91",
   "metadata": {},
   "source": [
    ". The use of self allows us to refer to the properties of the specific instance of  class that is calling the method"
   ]
  },
  {
   "cell_type": "markdown",
   "id": "c861c64f",
   "metadata": {},
   "source": [
    "# Q5. What is inheritance? Give an example for each type of inheritance."
   ]
  },
  {
   "cell_type": "markdown",
   "id": "24810978",
   "metadata": {},
   "source": [
    "a new class based on the existing class taking the properties of parent class\n",
    "four types of inheritence \n",
    "single inheritance\n",
    "multiple inheritance\n",
    "multilevel inheritance"
   ]
  },
  {
   "cell_type": "code",
   "execution_count": 19,
   "id": "47c8e7c1",
   "metadata": {},
   "outputs": [],
   "source": [
    "class Animal:\n",
    "    def eat(self):\n",
    "        print(\"Eating...\")\n",
    "\n",
    "class Dog(Animal):\n",
    "    def bark(self):\n",
    "        print(\"Barking...\")\n"
   ]
  },
  {
   "cell_type": "code",
   "execution_count": 20,
   "id": "2941672c",
   "metadata": {},
   "outputs": [
    {
     "name": "stdout",
     "output_type": "stream",
     "text": [
      "Eating...\n",
      "Barking...\n"
     ]
    }
   ],
   "source": [
    "\n",
    "dog1 = Dog()\n",
    "dog1.eat() \n",
    "dog1.bark() \n",
    "# single inheritance example \n"
   ]
  },
  {
   "cell_type": "code",
   "execution_count": 24,
   "id": "11643f13",
   "metadata": {},
   "outputs": [
    {
     "name": "stdout",
     "output_type": "stream",
     "text": [
      "  a cat\n",
      " a dog...\n",
      "cat and dog\n"
     ]
    }
   ],
   "source": [
    "class cat:\n",
    "    def method_a(self):\n",
    "        print(\"  a cat\")\n",
    "\n",
    "class dog:\n",
    "    def method_b(self):\n",
    "        print(\" a dog...\")\n",
    "\n",
    "class pet(cat, dog):\n",
    "    def method_c(self):\n",
    "        print(\"cat and dog\")\n",
    "\n",
    "pet1 = pet()\n",
    "pet1.method_a() \n",
    "pet1.method_b() #multipile inhertance\n",
    "pet1.method_c() \n"
   ]
  },
  {
   "cell_type": "code",
   "execution_count": 25,
   "id": "81ba93bd",
   "metadata": {},
   "outputs": [
    {
     "name": "stdout",
     "output_type": "stream",
     "text": [
      "Drawing shape...\n",
      "Drawing circle...\n",
      "Drawing shape...\n",
      "Drawing square...\n"
     ]
    }
   ],
   "source": [
    "class Shape:\n",
    "    def draw(self):\n",
    "        print(\"Drawing shape...\")\n",
    "\n",
    "class Circle(Shape):\n",
    "    def draw_circle(self):\n",
    "        print(\"Drawing circle...\")\n",
    "\n",
    "class Square(Shape):\n",
    "    def draw_square(self):\n",
    "        print(\"Drawing square...\")\n",
    "\n",
    "circle1 = Circle()\n",
    "square1 = Square()\n",
    "\n",
    "circle1.draw() .\n",
    "circle1.draw_circle() # ...\n",
    "square1.draw() \n",
    "square1.draw_square() # Output: Drawing square...\n"
   ]
  },
  {
   "cell_type": "code",
   "execution_count": null,
   "id": "517c0551",
   "metadata": {},
   "outputs": [],
   "source": []
  }
 ],
 "metadata": {
  "kernelspec": {
   "display_name": "Python 3 (ipykernel)",
   "language": "python",
   "name": "python3"
  },
  "language_info": {
   "codemirror_mode": {
    "name": "ipython",
    "version": 3
   },
   "file_extension": ".py",
   "mimetype": "text/x-python",
   "name": "python",
   "nbconvert_exporter": "python",
   "pygments_lexer": "ipython3",
   "version": "3.9.12"
  }
 },
 "nbformat": 4,
 "nbformat_minor": 5
}
